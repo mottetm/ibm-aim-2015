{
 "cells": [
  {
   "cell_type": "code",
   "execution_count": 1,
   "metadata": {
    "collapsed": false
   },
   "outputs": [],
   "source": [
    "import glob, csv, re\n",
    "import numpy as np\n",
    "import matplotlib\n",
    "matplotlib.use('Agg')\n",
    "import matplotlib.pyplot as plt\n",
    "import matplotlib.patches as patches\n",
    "\n",
    "%matplotlib inline\n",
    "\n",
    "documents = np.array(glob.glob(\"../csv/*\"))"
   ]
  },
  {
   "cell_type": "code",
   "execution_count": 3,
   "metadata": {
    "collapsed": false
   },
   "outputs": [],
   "source": [
    "def plot_document(path):\n",
    "    pages = np.array(sorted(glob.glob(\"../csv/\" + path + \"/*.csv\")))\n",
    "    n_pages = len(pages)\n",
    "    \n",
    "    fig1 = plt.figure(figsize=(4, np.sqrt(2)*4), dpi=200)\n",
    "    \n",
    "    for i in range(n_pages):\n",
    "        page = pages[i]\n",
    "        data = []\n",
    "        with open(page) as csvfile:\n",
    "            csvreader = csv.reader(csvfile, delimiter=',', quotechar='\"')\n",
    "            for row in csvreader:\n",
    "                data.append(np.array(list(map(float, row[:4]))))\n",
    "                \n",
    "        data = np.array(data)\n",
    "\n",
    "        ax1 = fig1.add_subplot(np.ceil(n_pages / np.floor(np.sqrt(np.sqrt(2) * n_pages))).astype(int), \n",
    "                               np.floor(np.sqrt(np.sqrt(2) * n_pages)), i + 1, aspect='equal')\n",
    "\n",
    "        plt.xlim((0,np.min(data[:,0]) + np.max(data[:,2])))\n",
    "        plt.ylim((0,np.sqrt(2)*(np.min(data[:,0]) + np.max(data[:,2]))))\n",
    "\n",
    "        for box in data:\n",
    "            ax1.add_patch(\n",
    "                patches.Rectangle(\n",
    "                    (box[0], box[1]),   # (x,y)\n",
    "                    box[2] - box[0],          # width\n",
    "                    box[3] - box[1],          # height\n",
    "                )\n",
    "            )\n",
    "    plt.savefig(\"../preview/\" + re.sub(\"^.+/\", \"\", path) + \".jpg\", dpi=200)"
   ]
  },
  {
   "cell_type": "code",
   "execution_count": null,
   "metadata": {
    "collapsed": false
   },
   "outputs": [
    {
     "name": "stdout",
     "output_type": "stream",
     "text": [
      "../csv/document-09335680\n",
      "../csv/document-06912067\n",
      "../csv/document-00445939\n",
      "../csv/document-03065701\n",
      "../csv/document-07551685\n",
      "../csv/document-07551046\n",
      "../csv/document-06128680\n",
      "../csv/document-09228664\n",
      "../csv/document-09431718\n",
      "../csv/document-02008393\n",
      "../csv/document-01330305\n",
      "../csv/document-05551606\n",
      "../csv/document-09272396\n",
      "../csv/document-04494633\n",
      "../csv/document-09791186\n",
      "../csv/document-00770489\n",
      "../csv/document-06818127\n",
      "../csv/document-06096593\n",
      "../csv/document-03485597\n",
      "../csv/document-07470314\n",
      "../csv/document-09823777\n",
      "../csv/document-00817395\n",
      "../csv/document-06045576\n",
      "../csv/document-07428174\n",
      "../csv/document-06240241\n",
      "../csv/document-06504878\n",
      "../csv/document-05712587\n",
      "../csv/document-05529804\n",
      "../csv/document-04033494\n",
      "../csv/document-02180068\n",
      "../csv/document-08870516\n",
      "../csv/document-07870153\n",
      "../csv/document-09036603\n",
      "../csv/document-06483882\n",
      "../csv/document-03060301\n",
      "../csv/document-02073787\n",
      "../csv/document-08603725\n",
      "../csv/document-03097196\n",
      "../csv/document-05832630\n",
      "../csv/document-06418298\n",
      "../csv/document-08332537\n",
      "../csv/document-00710597\n",
      "../csv/document-07783387\n",
      "../csv/document-03148729\n",
      "../csv/document-00442381\n",
      "../csv/document-06235228\n",
      "../csv/document-05284025\n",
      "../csv/document-04718919\n",
      "../csv/document-02554718\n",
      "../csv/document-06573407\n",
      "../csv/document-09771242\n",
      "../csv/document-04192602\n",
      "../csv/document-04843464\n",
      "../csv/document-05160539\n",
      "../csv/document-07514680"
     ]
    }
   ],
   "source": [
    "for i in documents:\n",
    "    print(i)\n",
    "    plot_document(i)"
   ]
  },
  {
   "cell_type": "code",
   "execution_count": null,
   "metadata": {
    "collapsed": true
   },
   "outputs": [],
   "source": []
  }
 ],
 "metadata": {
  "kernelspec": {
   "display_name": "Python 3",
   "language": "python",
   "name": "python3"
  },
  "language_info": {
   "codemirror_mode": {
    "name": "ipython",
    "version": 3
   },
   "file_extension": ".py",
   "mimetype": "text/x-python",
   "name": "python",
   "nbconvert_exporter": "python",
   "pygments_lexer": "ipython3",
   "version": "3.4.3"
  }
 },
 "nbformat": 4,
 "nbformat_minor": 0
}
