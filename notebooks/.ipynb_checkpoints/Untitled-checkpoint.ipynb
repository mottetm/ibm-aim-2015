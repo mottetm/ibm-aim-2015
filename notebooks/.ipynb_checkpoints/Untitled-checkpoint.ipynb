{
 "cells": [
  {
   "cell_type": "code",
   "execution_count": 11,
   "metadata": {
    "collapsed": false
   },
   "outputs": [],
   "source": [
    "import glob, csv\n",
    "import numpy as np\n",
    "import matplotlib.pyplot as plt\n",
    "import matplotlib.patches as patches\n",
    "\n",
    "%matplotlib inline\n",
    "\n",
    "documents = np.array(glob.glob(\"../csv/*\"))"
   ]
  },
  {
   "cell_type": "code",
   "execution_count": 8,
   "metadata": {
    "collapsed": false
   },
   "outputs": [],
   "source": [
    "def plot_document(path):\n",
    "    pages = np.array(glob.glob(\"../csv/\" + path + \"/*.csv\"))\n",
    "    n_pages = len(pages)\n",
    "    \n",
    "    fig1 = plt.figure(figsize=(25, np.sqrt(2)*25), dpi=450)\n",
    "    \n",
    "    for page in pages:\n",
    "        data = []\n",
    "        with open(page) as csvfile:\n",
    "            csvreader = csv.reader(csvfile, delimiter=',', quotechar='\"')\n",
    "            for row in csvreader:\n",
    "                data.append(np.array(list(map(float, row[:4]))))\n",
    "                \n",
    "        data = np.array(data)\n",
    "\n",
    "        ax1 = fig1.add_subplot(np.ceil(n_pages / np.floor(np.sqrt(np.sqrt(2) * n_pages))).astype(int), \n",
    "                               np.floor(np.sqrt(np.sqrt(2) * n_pages)), i, aspect='equal')\n",
    "\n",
    "        plt.xlim((0,np.min(data[:,0]) + np.max(data[:,2])))\n",
    "        plt.ylim((0,np.sqrt(2)*(np.min(data[:,0]) + np.max(data[:,2]))))\n",
    "\n",
    "        for box in data:\n",
    "            ax1.add_patch(\n",
    "                patches.Rectangle(\n",
    "                    (box[0], box[1]),   # (x,y)\n",
    "                    box[2] - box[0],          # width\n",
    "                    box[3] - box[1],          # height\n",
    "                )\n",
    "            )\n",
    "    print(pages)"
   ]
  },
  {
   "cell_type": "code",
   "execution_count": 10,
   "metadata": {
    "collapsed": false
   },
   "outputs": [
    {
     "name": "stdout",
     "output_type": "stream",
     "text": [
      "['../csv/../csv/document-00080538/document-00080538-p0001.csv'\n",
      " '../csv/../csv/document-00080538/document-00080538-p0005.csv'\n",
      " '../csv/../csv/document-00080538/document-00080538-p0003.csv'\n",
      " '../csv/../csv/document-00080538/document-00080538-p0002.csv'\n",
      " '../csv/../csv/document-00080538/document-00080538-p0006.csv'\n",
      " '../csv/../csv/document-00080538/document-00080538-p0007.csv'\n",
      " '../csv/../csv/document-00080538/document-00080538-p0004.csv']\n",
      "['../csv/../csv/document-00093920/document-00093920-p0003.csv'\n",
      " '../csv/../csv/document-00093920/document-00093920-p0004.csv'\n",
      " '../csv/../csv/document-00093920/document-00093920-p0001.csv'\n",
      " '../csv/../csv/document-00093920/document-00093920-p0002.csv']\n"
     ]
    },
    {
     "data": {
      "text/plain": [
       "[None, None]"
      ]
     },
     "execution_count": 10,
     "metadata": {},
     "output_type": "execute_result"
    }
   ],
   "source": [
    "list(map(plot_document, documents))"
   ]
  },
  {
   "cell_type": "code",
   "execution_count": null,
   "metadata": {
    "collapsed": true
   },
   "outputs": [],
   "source": []
  }
 ],
 "metadata": {
  "kernelspec": {
   "display_name": "Python 3",
   "language": "python",
   "name": "python3"
  },
  "language_info": {
   "codemirror_mode": {
    "name": "ipython",
    "version": 3
   },
   "file_extension": ".py",
   "mimetype": "text/x-python",
   "name": "python",
   "nbconvert_exporter": "python",
   "pygments_lexer": "ipython3",
   "version": "3.4.3"
  }
 },
 "nbformat": 4,
 "nbformat_minor": 0
}
